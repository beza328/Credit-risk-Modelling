{
 "cells": [
  {
   "cell_type": "code",
   "execution_count": 71,
   "metadata": {},
   "outputs": [],
   "source": [
    "import os\n",
    "import sys\n",
    "import pandas as pd\n",
    "sys.path.append(os.path.abspath('../Scripts'))\n",
    "import warnings\n",
    "warnings.filterwarnings('ignore')"
   ]
  },
  {
   "cell_type": "code",
   "execution_count": 72,
   "metadata": {},
   "outputs": [],
   "source": [
    "import eda as ed"
   ]
  },
  {
   "cell_type": "code",
   "execution_count": 73,
   "metadata": {},
   "outputs": [
    {
     "name": "stdout",
     "output_type": "stream",
     "text": [
      "2024-10-10 08:30:23,845 - INFO - Attempting to load data from data.csv\n",
      "2024-10-10 08:30:24,620 - INFO - Successfully loaded data from data.csv\n"
     ]
    }
   ],
   "source": [
    "df = 'data.csv'\n",
    "data = ed.load_data(df)"
   ]
  },
  {
   "cell_type": "code",
   "execution_count": 74,
   "metadata": {},
   "outputs": [],
   "source": [
    "data['TransactionStartTime'] = pd.to_datetime(data['TransactionStartTime'])\n"
   ]
  },
  {
   "cell_type": "code",
   "execution_count": 75,
   "metadata": {},
   "outputs": [],
   "source": [
    "current_date = pd.to_datetime('now')"
   ]
  },
  {
   "cell_type": "code",
   "execution_count": 76,
   "metadata": {},
   "outputs": [],
   "source": [
    "import pytz"
   ]
  },
  {
   "cell_type": "code",
   "execution_count": 77,
   "metadata": {},
   "outputs": [
    {
     "name": "stdout",
     "output_type": "stream",
     "text": [
      "datetime64[ns, UTC]\n"
     ]
    }
   ],
   "source": [
    "print(data['TransactionStartTime'].dtype)"
   ]
  },
  {
   "cell_type": "code",
   "execution_count": 78,
   "metadata": {},
   "outputs": [],
   "source": [
    "data['TransactionStartTime'] = data['TransactionStartTime'].dt.tz_convert(None)"
   ]
  },
  {
   "cell_type": "code",
   "execution_count": 79,
   "metadata": {},
   "outputs": [
    {
     "ename": "TypeError",
     "evalue": "Cannot convert tz-naive timestamps, use tz_localize to localize",
     "output_type": "error",
     "traceback": [
      "\u001b[1;31m---------------------------------------------------------------------------\u001b[0m",
      "\u001b[1;31mTypeError\u001b[0m                                 Traceback (most recent call last)",
      "Cell \u001b[1;32mIn[79], line 28\u001b[0m\n\u001b[0;32m     22\u001b[0m current_date_eat \u001b[38;5;241m=\u001b[39m current_date\u001b[38;5;241m.\u001b[39mtz_localize(\u001b[38;5;124m'\u001b[39m\u001b[38;5;124mAfrica/Addis_Ababa\u001b[39m\u001b[38;5;124m'\u001b[39m)\n\u001b[0;32m     24\u001b[0m \u001b[38;5;66;03m# Assuming data['TransactionStartTime'] is in UTC, first localize it to UTC\u001b[39;00m\n\u001b[0;32m     25\u001b[0m \u001b[38;5;66;03m#data['TransactionStartTime'] = data['TransactionStartTime'].dt.tz_localize('UTC')\u001b[39;00m\n\u001b[0;32m     26\u001b[0m \n\u001b[0;32m     27\u001b[0m \u001b[38;5;66;03m# Now convert TransactionStartTime to EAT\u001b[39;00m\n\u001b[1;32m---> 28\u001b[0m data[\u001b[38;5;124m'\u001b[39m\u001b[38;5;124mTransactionStartTime_EAT\u001b[39m\u001b[38;5;124m'\u001b[39m] \u001b[38;5;241m=\u001b[39m \u001b[43mdata\u001b[49m\u001b[43m[\u001b[49m\u001b[38;5;124;43m'\u001b[39;49m\u001b[38;5;124;43mTransactionStartTime\u001b[39;49m\u001b[38;5;124;43m'\u001b[39;49m\u001b[43m]\u001b[49m\u001b[38;5;241;43m.\u001b[39;49m\u001b[43mdt\u001b[49m\u001b[38;5;241;43m.\u001b[39;49m\u001b[43mtz_convert\u001b[49m\u001b[43m(\u001b[49m\u001b[38;5;124;43m'\u001b[39;49m\u001b[38;5;124;43mAfrica/Addis_Ababa\u001b[39;49m\u001b[38;5;124;43m'\u001b[39;49m\u001b[43m)\u001b[49m\n\u001b[0;32m     30\u001b[0m \u001b[38;5;66;03m# Calculate Recency in days\u001b[39;00m\n\u001b[0;32m     31\u001b[0m data[\u001b[38;5;124m'\u001b[39m\u001b[38;5;124mRecency\u001b[39m\u001b[38;5;124m'\u001b[39m] \u001b[38;5;241m=\u001b[39m (current_date_eat \u001b[38;5;241m-\u001b[39m data[\u001b[38;5;124m'\u001b[39m\u001b[38;5;124mTransactionStartTime_EAT\u001b[39m\u001b[38;5;124m'\u001b[39m])\u001b[38;5;241m.\u001b[39mdt\u001b[38;5;241m.\u001b[39mdays\n",
      "File \u001b[1;32mc:\\Users\\BEZA\\Desktop\\Weekk6\\Credit-risk-Modelling\\venv\\Lib\\site-packages\\pandas\\core\\accessor.py:112\u001b[0m, in \u001b[0;36mPandasDelegate._add_delegate_accessors.<locals>._create_delegator_method.<locals>.f\u001b[1;34m(self, *args, **kwargs)\u001b[0m\n\u001b[0;32m    111\u001b[0m \u001b[38;5;28;01mdef\u001b[39;00m \u001b[38;5;21mf\u001b[39m(\u001b[38;5;28mself\u001b[39m, \u001b[38;5;241m*\u001b[39margs, \u001b[38;5;241m*\u001b[39m\u001b[38;5;241m*\u001b[39mkwargs):\n\u001b[1;32m--> 112\u001b[0m     \u001b[38;5;28;01mreturn\u001b[39;00m \u001b[38;5;28;43mself\u001b[39;49m\u001b[38;5;241;43m.\u001b[39;49m\u001b[43m_delegate_method\u001b[49m\u001b[43m(\u001b[49m\u001b[43mname\u001b[49m\u001b[43m,\u001b[49m\u001b[43m \u001b[49m\u001b[38;5;241;43m*\u001b[39;49m\u001b[43margs\u001b[49m\u001b[43m,\u001b[49m\u001b[43m \u001b[49m\u001b[38;5;241;43m*\u001b[39;49m\u001b[38;5;241;43m*\u001b[39;49m\u001b[43mkwargs\u001b[49m\u001b[43m)\u001b[49m\n",
      "File \u001b[1;32mc:\\Users\\BEZA\\Desktop\\Weekk6\\Credit-risk-Modelling\\venv\\Lib\\site-packages\\pandas\\core\\indexes\\accessors.py:132\u001b[0m, in \u001b[0;36mProperties._delegate_method\u001b[1;34m(self, name, *args, **kwargs)\u001b[0m\n\u001b[0;32m    129\u001b[0m values \u001b[38;5;241m=\u001b[39m \u001b[38;5;28mself\u001b[39m\u001b[38;5;241m.\u001b[39m_get_values()\n\u001b[0;32m    131\u001b[0m method \u001b[38;5;241m=\u001b[39m \u001b[38;5;28mgetattr\u001b[39m(values, name)\n\u001b[1;32m--> 132\u001b[0m result \u001b[38;5;241m=\u001b[39m \u001b[43mmethod\u001b[49m\u001b[43m(\u001b[49m\u001b[38;5;241;43m*\u001b[39;49m\u001b[43margs\u001b[49m\u001b[43m,\u001b[49m\u001b[43m \u001b[49m\u001b[38;5;241;43m*\u001b[39;49m\u001b[38;5;241;43m*\u001b[39;49m\u001b[43mkwargs\u001b[49m\u001b[43m)\u001b[49m\n\u001b[0;32m    134\u001b[0m \u001b[38;5;28;01mif\u001b[39;00m \u001b[38;5;129;01mnot\u001b[39;00m is_list_like(result):\n\u001b[0;32m    135\u001b[0m     \u001b[38;5;28;01mreturn\u001b[39;00m result\n",
      "File \u001b[1;32mc:\\Users\\BEZA\\Desktop\\Weekk6\\Credit-risk-Modelling\\venv\\Lib\\site-packages\\pandas\\core\\indexes\\datetimes.py:283\u001b[0m, in \u001b[0;36mDatetimeIndex.tz_convert\u001b[1;34m(self, tz)\u001b[0m\n\u001b[0;32m    281\u001b[0m \u001b[38;5;129m@doc\u001b[39m(DatetimeArray\u001b[38;5;241m.\u001b[39mtz_convert)\n\u001b[0;32m    282\u001b[0m \u001b[38;5;28;01mdef\u001b[39;00m \u001b[38;5;21mtz_convert\u001b[39m(\u001b[38;5;28mself\u001b[39m, tz) \u001b[38;5;241m-\u001b[39m\u001b[38;5;241m>\u001b[39m Self:\n\u001b[1;32m--> 283\u001b[0m     arr \u001b[38;5;241m=\u001b[39m \u001b[38;5;28;43mself\u001b[39;49m\u001b[38;5;241;43m.\u001b[39;49m\u001b[43m_data\u001b[49m\u001b[38;5;241;43m.\u001b[39;49m\u001b[43mtz_convert\u001b[49m\u001b[43m(\u001b[49m\u001b[43mtz\u001b[49m\u001b[43m)\u001b[49m\n\u001b[0;32m    284\u001b[0m     \u001b[38;5;28;01mreturn\u001b[39;00m \u001b[38;5;28mtype\u001b[39m(\u001b[38;5;28mself\u001b[39m)\u001b[38;5;241m.\u001b[39m_simple_new(arr, name\u001b[38;5;241m=\u001b[39m\u001b[38;5;28mself\u001b[39m\u001b[38;5;241m.\u001b[39mname, refs\u001b[38;5;241m=\u001b[39m\u001b[38;5;28mself\u001b[39m\u001b[38;5;241m.\u001b[39m_references)\n",
      "File \u001b[1;32mc:\\Users\\BEZA\\Desktop\\Weekk6\\Credit-risk-Modelling\\venv\\Lib\\site-packages\\pandas\\core\\arrays\\datetimes.py:915\u001b[0m, in \u001b[0;36mDatetimeArray.tz_convert\u001b[1;34m(self, tz)\u001b[0m\n\u001b[0;32m    911\u001b[0m tz \u001b[38;5;241m=\u001b[39m timezones\u001b[38;5;241m.\u001b[39mmaybe_get_tz(tz)\n\u001b[0;32m    913\u001b[0m \u001b[38;5;28;01mif\u001b[39;00m \u001b[38;5;28mself\u001b[39m\u001b[38;5;241m.\u001b[39mtz \u001b[38;5;129;01mis\u001b[39;00m \u001b[38;5;28;01mNone\u001b[39;00m:\n\u001b[0;32m    914\u001b[0m     \u001b[38;5;66;03m# tz naive, use tz_localize\u001b[39;00m\n\u001b[1;32m--> 915\u001b[0m     \u001b[38;5;28;01mraise\u001b[39;00m \u001b[38;5;167;01mTypeError\u001b[39;00m(\n\u001b[0;32m    916\u001b[0m         \u001b[38;5;124m\"\u001b[39m\u001b[38;5;124mCannot convert tz-naive timestamps, use tz_localize to localize\u001b[39m\u001b[38;5;124m\"\u001b[39m\n\u001b[0;32m    917\u001b[0m     )\n\u001b[0;32m    919\u001b[0m \u001b[38;5;66;03m# No conversion since timestamps are all UTC to begin with\u001b[39;00m\n\u001b[0;32m    920\u001b[0m dtype \u001b[38;5;241m=\u001b[39m tz_to_dtype(tz, unit\u001b[38;5;241m=\u001b[39m\u001b[38;5;28mself\u001b[39m\u001b[38;5;241m.\u001b[39munit)\n",
      "\u001b[1;31mTypeError\u001b[0m: Cannot convert tz-naive timestamps, use tz_localize to localize"
     ]
    }
   ],
   "source": [
    "\n",
    "# Feature Engineering\n",
    "\n",
    "# 1. Transaction Frequency\n",
    "transaction_frequency = data.groupby('CustomerId')['TransactionId'].count().reset_index()\n",
    "transaction_frequency.columns = ['CustomerId', 'Transaction_Frequency']\n",
    "\n",
    "# 2. Average Transaction Amount\n",
    "avg_transaction_amount = data.groupby('CustomerId')['Amount'].mean().reset_index()\n",
    "avg_transaction_amount.columns = ['CustomerId', 'Avg_Transaction_Amount']\n",
    "\n",
    "# 3. Total Transaction Volume\n",
    "total_transaction_volume = data.groupby('CustomerId')['Amount'].sum().reset_index()\n",
    "total_transaction_volume.columns = ['CustomerId', 'Total_Transaction_Volume']\n",
    "\n",
    "#4. Transaction Timing\n",
    "# Calculate Recency\n",
    "current_date = pd.to_datetime('now')\n",
    "#data['Recency'] = (current_date - data['TransactionStartTime']).dt.days\n",
    "\n",
    "# Convert current_date to EAT (UTC+3)\n",
    "# Localize current_date to EAT (UTC+3)\n",
    "current_date_eat = current_date.tz_localize('Africa/Addis_Ababa')\n",
    "\n",
    "# Assuming data['TransactionStartTime'] is in UTC, first localize it to UTC\n",
    "#data['TransactionStartTime'] = data['TransactionStartTime'].dt.tz_localize('UTC')\n",
    "\n",
    "# Now convert TransactionStartTime to EAT\n",
    "data['TransactionStartTime_EAT'] = data['TransactionStartTime'].dt.tz_convert('Africa/Addis_Ababa')\n",
    "\n",
    "# Calculate Recency in days\n",
    "data['Recency'] = (current_date_eat - data['TransactionStartTime_EAT']).dt.days\n",
    "\n",
    "recency = data.groupby('CustomerId')['Recency'].min().reset_index()\n",
    "recency.columns = ['CustomerId', 'Transaction_Recency']\n",
    "\n",
    "# 5. Variability of Transaction Amounts\n",
    "transaction_variability = data.groupby('CustomerId')['Amount'].std().reset_index()\n",
    "transaction_variability.columns = ['CustomerId', 'Transaction_Amount_Variability']\n",
    "\n",
    "\n",
    "#6. Extracting Time-Based Features from TransactionStartTime\n",
    "data['TransactionHour'] = data['TransactionStartTime'].dt.hour\n",
    "data['TransactionDay'] = data['TransactionStartTime'].dt.day\n",
    "data['TransactionMonth'] = data['TransactionStartTime'].dt.month\n",
    "data['TransactionYear'] = data['TransactionStartTime'].dt.year\n",
    "\n",
    "# 7. Calculate the mean values for new time-based features for each customer\n",
    "transaction_hour = data.groupby('CustomerId')['TransactionHour'].mean().reset_index()\n",
    "transaction_hour.columns = ['CustomerId', 'Avg_Transaction_Hour']\n",
    "\n",
    "transaction_day = data.groupby('CustomerId')['TransactionDay'].mean().reset_index()\n",
    "transaction_day.columns = ['CustomerId', 'Avg_Transaction_Day']\n",
    "\n",
    "transaction_month = data.groupby('CustomerId')['TransactionMonth'].mean().reset_index()\n",
    "transaction_month.columns = ['CustomerId', 'Avg_Transaction_Month']\n",
    "\n",
    "transaction_year = data.groupby('CustomerId')['TransactionYear'].mean().reset_index()\n",
    "transaction_year.columns = ['CustomerId', 'Avg_Transaction_Year']\n",
    "\n",
    "# Merge all features into a single DataFrame\n",
    "features = transaction_frequency.merge(avg_transaction_amount, on='CustomerId') \\\n",
    "                                .merge(total_transaction_volume, on='CustomerId') \\\n",
    "                                .merge(recency, on='CustomerId') \\\n",
    "                                .merge(transaction_variability, on='CustomerId')\\\n",
    "                                .merge(transaction_hour, on='CustomerId') \\\n",
    "                                .merge(transaction_day, on='CustomerId') \\\n",
    "                                .merge(transaction_month, on='CustomerId') \\\n",
    "                                .merge(transaction_year, on='CustomerId')\n",
    "\n",
    "# Reset index if necessary\n",
    "features.reset_index(drop=True, inplace=True)\n",
    "\n",
    "# Output the features DataFrame\n",
    "print(features.head())\n"
   ]
  },
  {
   "cell_type": "code",
   "execution_count": 54,
   "metadata": {},
   "outputs": [
    {
     "data": {
      "text/html": [
       "<div>\n",
       "<style scoped>\n",
       "    .dataframe tbody tr th:only-of-type {\n",
       "        vertical-align: middle;\n",
       "    }\n",
       "\n",
       "    .dataframe tbody tr th {\n",
       "        vertical-align: top;\n",
       "    }\n",
       "\n",
       "    .dataframe thead th {\n",
       "        text-align: right;\n",
       "    }\n",
       "</style>\n",
       "<table border=\"1\" class=\"dataframe\">\n",
       "  <thead>\n",
       "    <tr style=\"text-align: right;\">\n",
       "      <th></th>\n",
       "      <th>CustomerId</th>\n",
       "      <th>Transaction_Frequency</th>\n",
       "      <th>Avg_Transaction_Amount</th>\n",
       "      <th>Total_Transaction_Volume</th>\n",
       "      <th>Transaction_Recency</th>\n",
       "      <th>Transaction_Amount_Variability</th>\n",
       "      <th>Avg_Transaction_Hour</th>\n",
       "      <th>Avg_Transaction_Day</th>\n",
       "      <th>Avg_Transaction_Month</th>\n",
       "      <th>Avg_Transaction_Year</th>\n",
       "    </tr>\n",
       "  </thead>\n",
       "  <tbody>\n",
       "    <tr>\n",
       "      <th>0</th>\n",
       "      <td>CustomerId_1</td>\n",
       "      <td>1</td>\n",
       "      <td>-10000.000000</td>\n",
       "      <td>-10000.0</td>\n",
       "      <td>2149</td>\n",
       "      <td>NaN</td>\n",
       "      <td>16.000000</td>\n",
       "      <td>21.000000</td>\n",
       "      <td>11.000000</td>\n",
       "      <td>2018.000000</td>\n",
       "    </tr>\n",
       "    <tr>\n",
       "      <th>1</th>\n",
       "      <td>CustomerId_10</td>\n",
       "      <td>1</td>\n",
       "      <td>-10000.000000</td>\n",
       "      <td>-10000.0</td>\n",
       "      <td>2149</td>\n",
       "      <td>NaN</td>\n",
       "      <td>16.000000</td>\n",
       "      <td>21.000000</td>\n",
       "      <td>11.000000</td>\n",
       "      <td>2018.000000</td>\n",
       "    </tr>\n",
       "    <tr>\n",
       "      <th>2</th>\n",
       "      <td>CustomerId_1001</td>\n",
       "      <td>5</td>\n",
       "      <td>4000.000000</td>\n",
       "      <td>20000.0</td>\n",
       "      <td>2154</td>\n",
       "      <td>6558.963333</td>\n",
       "      <td>7.800000</td>\n",
       "      <td>16.000000</td>\n",
       "      <td>11.000000</td>\n",
       "      <td>2018.000000</td>\n",
       "    </tr>\n",
       "    <tr>\n",
       "      <th>3</th>\n",
       "      <td>CustomerId_1002</td>\n",
       "      <td>11</td>\n",
       "      <td>384.090909</td>\n",
       "      <td>4225.0</td>\n",
       "      <td>2091</td>\n",
       "      <td>560.498966</td>\n",
       "      <td>13.454545</td>\n",
       "      <td>14.727273</td>\n",
       "      <td>8.636364</td>\n",
       "      <td>2018.272727</td>\n",
       "    </tr>\n",
       "    <tr>\n",
       "      <th>4</th>\n",
       "      <td>CustomerId_1003</td>\n",
       "      <td>6</td>\n",
       "      <td>3333.333333</td>\n",
       "      <td>20000.0</td>\n",
       "      <td>2077</td>\n",
       "      <td>6030.478146</td>\n",
       "      <td>14.333333</td>\n",
       "      <td>1.000000</td>\n",
       "      <td>2.000000</td>\n",
       "      <td>2019.000000</td>\n",
       "    </tr>\n",
       "    <tr>\n",
       "      <th>...</th>\n",
       "      <td>...</td>\n",
       "      <td>...</td>\n",
       "      <td>...</td>\n",
       "      <td>...</td>\n",
       "      <td>...</td>\n",
       "      <td>...</td>\n",
       "      <td>...</td>\n",
       "      <td>...</td>\n",
       "      <td>...</td>\n",
       "      <td>...</td>\n",
       "    </tr>\n",
       "    <tr>\n",
       "      <th>3737</th>\n",
       "      <td>CustomerId_992</td>\n",
       "      <td>6</td>\n",
       "      <td>3333.333333</td>\n",
       "      <td>20000.0</td>\n",
       "      <td>2070</td>\n",
       "      <td>6088.240030</td>\n",
       "      <td>10.000000</td>\n",
       "      <td>8.000000</td>\n",
       "      <td>2.000000</td>\n",
       "      <td>2019.000000</td>\n",
       "    </tr>\n",
       "    <tr>\n",
       "      <th>3738</th>\n",
       "      <td>CustomerId_993</td>\n",
       "      <td>5</td>\n",
       "      <td>4000.000000</td>\n",
       "      <td>20000.0</td>\n",
       "      <td>2091</td>\n",
       "      <td>6745.368782</td>\n",
       "      <td>15.000000</td>\n",
       "      <td>18.000000</td>\n",
       "      <td>1.000000</td>\n",
       "      <td>2019.000000</td>\n",
       "    </tr>\n",
       "    <tr>\n",
       "      <th>3739</th>\n",
       "      <td>CustomerId_994</td>\n",
       "      <td>101</td>\n",
       "      <td>5384.881188</td>\n",
       "      <td>543873.0</td>\n",
       "      <td>2066</td>\n",
       "      <td>14800.656784</td>\n",
       "      <td>13.900990</td>\n",
       "      <td>18.475248</td>\n",
       "      <td>5.207921</td>\n",
       "      <td>2018.623762</td>\n",
       "    </tr>\n",
       "    <tr>\n",
       "      <th>3740</th>\n",
       "      <td>CustomerId_996</td>\n",
       "      <td>17</td>\n",
       "      <td>8176.470588</td>\n",
       "      <td>139000.0</td>\n",
       "      <td>2133</td>\n",
       "      <td>4433.329648</td>\n",
       "      <td>14.470588</td>\n",
       "      <td>7.000000</td>\n",
       "      <td>12.000000</td>\n",
       "      <td>2018.000000</td>\n",
       "    </tr>\n",
       "    <tr>\n",
       "      <th>3741</th>\n",
       "      <td>CustomerId_998</td>\n",
       "      <td>22</td>\n",
       "      <td>4545.454545</td>\n",
       "      <td>100000.0</td>\n",
       "      <td>2065</td>\n",
       "      <td>6775.145563</td>\n",
       "      <td>13.136364</td>\n",
       "      <td>15.954545</td>\n",
       "      <td>1.363636</td>\n",
       "      <td>2019.000000</td>\n",
       "    </tr>\n",
       "  </tbody>\n",
       "</table>\n",
       "<p>3742 rows × 10 columns</p>\n",
       "</div>"
      ],
      "text/plain": [
       "           CustomerId  Transaction_Frequency  Avg_Transaction_Amount  \\\n",
       "0        CustomerId_1                      1           -10000.000000   \n",
       "1       CustomerId_10                      1           -10000.000000   \n",
       "2     CustomerId_1001                      5             4000.000000   \n",
       "3     CustomerId_1002                     11              384.090909   \n",
       "4     CustomerId_1003                      6             3333.333333   \n",
       "...               ...                    ...                     ...   \n",
       "3737   CustomerId_992                      6             3333.333333   \n",
       "3738   CustomerId_993                      5             4000.000000   \n",
       "3739   CustomerId_994                    101             5384.881188   \n",
       "3740   CustomerId_996                     17             8176.470588   \n",
       "3741   CustomerId_998                     22             4545.454545   \n",
       "\n",
       "      Total_Transaction_Volume  Transaction_Recency  \\\n",
       "0                     -10000.0                 2149   \n",
       "1                     -10000.0                 2149   \n",
       "2                      20000.0                 2154   \n",
       "3                       4225.0                 2091   \n",
       "4                      20000.0                 2077   \n",
       "...                        ...                  ...   \n",
       "3737                   20000.0                 2070   \n",
       "3738                   20000.0                 2091   \n",
       "3739                  543873.0                 2066   \n",
       "3740                  139000.0                 2133   \n",
       "3741                  100000.0                 2065   \n",
       "\n",
       "      Transaction_Amount_Variability  Avg_Transaction_Hour  \\\n",
       "0                                NaN             16.000000   \n",
       "1                                NaN             16.000000   \n",
       "2                        6558.963333              7.800000   \n",
       "3                         560.498966             13.454545   \n",
       "4                        6030.478146             14.333333   \n",
       "...                              ...                   ...   \n",
       "3737                     6088.240030             10.000000   \n",
       "3738                     6745.368782             15.000000   \n",
       "3739                    14800.656784             13.900990   \n",
       "3740                     4433.329648             14.470588   \n",
       "3741                     6775.145563             13.136364   \n",
       "\n",
       "      Avg_Transaction_Day  Avg_Transaction_Month  Avg_Transaction_Year  \n",
       "0               21.000000              11.000000           2018.000000  \n",
       "1               21.000000              11.000000           2018.000000  \n",
       "2               16.000000              11.000000           2018.000000  \n",
       "3               14.727273               8.636364           2018.272727  \n",
       "4                1.000000               2.000000           2019.000000  \n",
       "...                   ...                    ...                   ...  \n",
       "3737             8.000000               2.000000           2019.000000  \n",
       "3738            18.000000               1.000000           2019.000000  \n",
       "3739            18.475248               5.207921           2018.623762  \n",
       "3740             7.000000              12.000000           2018.000000  \n",
       "3741            15.954545               1.363636           2019.000000  \n",
       "\n",
       "[3742 rows x 10 columns]"
      ]
     },
     "execution_count": 54,
     "metadata": {},
     "output_type": "execute_result"
    }
   ],
   "source": [
    "features"
   ]
  },
  {
   "cell_type": "code",
   "execution_count": 68,
   "metadata": {},
   "outputs": [],
   "source": [
    "from sklearn.preprocessing import MinMaxScaler, StandardScaler, LabelEncoder  # For scaling and encoding"
   ]
  },
  {
   "cell_type": "code",
   "execution_count": 67,
   "metadata": {},
   "outputs": [
    {
     "data": {
      "text/html": [
       "<div>\n",
       "<style scoped>\n",
       "    .dataframe tbody tr th:only-of-type {\n",
       "        vertical-align: middle;\n",
       "    }\n",
       "\n",
       "    .dataframe tbody tr th {\n",
       "        vertical-align: top;\n",
       "    }\n",
       "\n",
       "    .dataframe thead th {\n",
       "        text-align: right;\n",
       "    }\n",
       "</style>\n",
       "<table border=\"1\" class=\"dataframe\">\n",
       "  <thead>\n",
       "    <tr style=\"text-align: right;\">\n",
       "      <th></th>\n",
       "      <th>CustomerId</th>\n",
       "    </tr>\n",
       "  </thead>\n",
       "  <tbody>\n",
       "    <tr>\n",
       "      <th>count</th>\n",
       "      <td>95662</td>\n",
       "    </tr>\n",
       "    <tr>\n",
       "      <th>unique</th>\n",
       "      <td>3742</td>\n",
       "    </tr>\n",
       "    <tr>\n",
       "      <th>top</th>\n",
       "      <td>CustomerId_7343</td>\n",
       "    </tr>\n",
       "    <tr>\n",
       "      <th>freq</th>\n",
       "      <td>4091</td>\n",
       "    </tr>\n",
       "  </tbody>\n",
       "</table>\n",
       "</div>"
      ],
      "text/plain": [
       "             CustomerId\n",
       "count             95662\n",
       "unique             3742\n",
       "top     CustomerId_7343\n",
       "freq               4091"
      ]
     },
     "execution_count": 67,
     "metadata": {},
     "output_type": "execute_result"
    }
   ],
   "source": [
    "features.describe(include= 'object')"
   ]
  },
  {
   "cell_type": "code",
   "execution_count": 66,
   "metadata": {},
   "outputs": [
    {
     "data": {
      "text/plain": [
       "CustomerId                         object\n",
       "Transaction_Frequency               int64\n",
       "Avg_Transaction_Amount            float64\n",
       "Total_Transaction_Volume          float64\n",
       "Transaction_Recency                 int64\n",
       "Transaction_Amount_Variability    float64\n",
       "TransactionHour                     int32\n",
       "TransactionDay                      int32\n",
       "TransactionMonth                    int32\n",
       "TransactionYear                     int32\n",
       "dtype: object"
      ]
     },
     "execution_count": 66,
     "metadata": {},
     "output_type": "execute_result"
    }
   ],
   "source": [
    "features.dtypes"
   ]
  },
  {
   "cell_type": "markdown",
   "metadata": {},
   "source": [
    "## Encoding catagorical varibles"
   ]
  },
  {
   "cell_type": "code",
   "execution_count": 70,
   "metadata": {},
   "outputs": [
    {
     "ename": "KeyError",
     "evalue": "\"None of [Index(['CustomerId'], dtype='object')] are in the [columns]\"",
     "output_type": "error",
     "traceback": [
      "\u001b[1;31m---------------------------------------------------------------------------\u001b[0m",
      "\u001b[1;31mKeyError\u001b[0m                                  Traceback (most recent call last)",
      "Cell \u001b[1;32mIn[70], line 4\u001b[0m\n\u001b[0;32m      1\u001b[0m \u001b[38;5;66;03m# Assuming 'features' is your DataFrame after feature engineering\u001b[39;00m\n\u001b[0;32m      2\u001b[0m \n\u001b[0;32m      3\u001b[0m \u001b[38;5;66;03m# One-Hot Encoding for nominal categorical variables \u001b[39;00m\n\u001b[1;32m----> 4\u001b[0m features \u001b[38;5;241m=\u001b[39m \u001b[43mpd\u001b[49m\u001b[38;5;241;43m.\u001b[39;49m\u001b[43mget_dummies\u001b[49m\u001b[43m(\u001b[49m\u001b[43mfeatures\u001b[49m\u001b[43m,\u001b[49m\u001b[43m \u001b[49m\u001b[43mcolumns\u001b[49m\u001b[38;5;241;43m=\u001b[39;49m\u001b[43m[\u001b[49m\u001b[38;5;124;43m'\u001b[39;49m\u001b[38;5;124;43mCustomerId\u001b[39;49m\u001b[38;5;124;43m'\u001b[39;49m\u001b[43m]\u001b[49m\u001b[43m,\u001b[49m\u001b[43m \u001b[49m\u001b[43mdrop_first\u001b[49m\u001b[38;5;241;43m=\u001b[39;49m\u001b[38;5;28;43;01mTrue\u001b[39;49;00m\u001b[43m)\u001b[49m\n\u001b[0;32m      6\u001b[0m \u001b[38;5;66;03m# Label Encoding for ordinal categorical variables if any (not shown in the example)\u001b[39;00m\n\u001b[0;32m      7\u001b[0m \u001b[38;5;28;01mfrom\u001b[39;00m \u001b[38;5;21;01msklearn\u001b[39;00m\u001b[38;5;21;01m.\u001b[39;00m\u001b[38;5;21;01mpreprocessing\u001b[39;00m \u001b[38;5;28;01mimport\u001b[39;00m LabelEncoder\n",
      "File \u001b[1;32mc:\\Users\\BEZA\\Desktop\\Weekk6\\Credit-risk-Modelling\\venv\\Lib\\site-packages\\pandas\\core\\reshape\\encoding.py:169\u001b[0m, in \u001b[0;36mget_dummies\u001b[1;34m(data, prefix, prefix_sep, dummy_na, columns, sparse, drop_first, dtype)\u001b[0m\n\u001b[0;32m    167\u001b[0m     \u001b[38;5;28;01mraise\u001b[39;00m \u001b[38;5;167;01mTypeError\u001b[39;00m(\u001b[38;5;124m\"\u001b[39m\u001b[38;5;124mInput must be a list-like for parameter `columns`\u001b[39m\u001b[38;5;124m\"\u001b[39m)\n\u001b[0;32m    168\u001b[0m \u001b[38;5;28;01melse\u001b[39;00m:\n\u001b[1;32m--> 169\u001b[0m     data_to_encode \u001b[38;5;241m=\u001b[39m \u001b[43mdata\u001b[49m\u001b[43m[\u001b[49m\u001b[43mcolumns\u001b[49m\u001b[43m]\u001b[49m\n\u001b[0;32m    171\u001b[0m \u001b[38;5;66;03m# validate prefixes and separator to avoid silently dropping cols\u001b[39;00m\n\u001b[0;32m    172\u001b[0m \u001b[38;5;28;01mdef\u001b[39;00m \u001b[38;5;21mcheck_len\u001b[39m(item, name: \u001b[38;5;28mstr\u001b[39m):\n",
      "File \u001b[1;32mc:\\Users\\BEZA\\Desktop\\Weekk6\\Credit-risk-Modelling\\venv\\Lib\\site-packages\\pandas\\core\\frame.py:4108\u001b[0m, in \u001b[0;36mDataFrame.__getitem__\u001b[1;34m(self, key)\u001b[0m\n\u001b[0;32m   4106\u001b[0m     \u001b[38;5;28;01mif\u001b[39;00m is_iterator(key):\n\u001b[0;32m   4107\u001b[0m         key \u001b[38;5;241m=\u001b[39m \u001b[38;5;28mlist\u001b[39m(key)\n\u001b[1;32m-> 4108\u001b[0m     indexer \u001b[38;5;241m=\u001b[39m \u001b[38;5;28;43mself\u001b[39;49m\u001b[38;5;241;43m.\u001b[39;49m\u001b[43mcolumns\u001b[49m\u001b[38;5;241;43m.\u001b[39;49m\u001b[43m_get_indexer_strict\u001b[49m\u001b[43m(\u001b[49m\u001b[43mkey\u001b[49m\u001b[43m,\u001b[49m\u001b[43m \u001b[49m\u001b[38;5;124;43m\"\u001b[39;49m\u001b[38;5;124;43mcolumns\u001b[39;49m\u001b[38;5;124;43m\"\u001b[39;49m\u001b[43m)\u001b[49m[\u001b[38;5;241m1\u001b[39m]\n\u001b[0;32m   4110\u001b[0m \u001b[38;5;66;03m# take() does not accept boolean indexers\u001b[39;00m\n\u001b[0;32m   4111\u001b[0m \u001b[38;5;28;01mif\u001b[39;00m \u001b[38;5;28mgetattr\u001b[39m(indexer, \u001b[38;5;124m\"\u001b[39m\u001b[38;5;124mdtype\u001b[39m\u001b[38;5;124m\"\u001b[39m, \u001b[38;5;28;01mNone\u001b[39;00m) \u001b[38;5;241m==\u001b[39m \u001b[38;5;28mbool\u001b[39m:\n",
      "File \u001b[1;32mc:\\Users\\BEZA\\Desktop\\Weekk6\\Credit-risk-Modelling\\venv\\Lib\\site-packages\\pandas\\core\\indexes\\base.py:6200\u001b[0m, in \u001b[0;36mIndex._get_indexer_strict\u001b[1;34m(self, key, axis_name)\u001b[0m\n\u001b[0;32m   6197\u001b[0m \u001b[38;5;28;01melse\u001b[39;00m:\n\u001b[0;32m   6198\u001b[0m     keyarr, indexer, new_indexer \u001b[38;5;241m=\u001b[39m \u001b[38;5;28mself\u001b[39m\u001b[38;5;241m.\u001b[39m_reindex_non_unique(keyarr)\n\u001b[1;32m-> 6200\u001b[0m \u001b[38;5;28;43mself\u001b[39;49m\u001b[38;5;241;43m.\u001b[39;49m\u001b[43m_raise_if_missing\u001b[49m\u001b[43m(\u001b[49m\u001b[43mkeyarr\u001b[49m\u001b[43m,\u001b[49m\u001b[43m \u001b[49m\u001b[43mindexer\u001b[49m\u001b[43m,\u001b[49m\u001b[43m \u001b[49m\u001b[43maxis_name\u001b[49m\u001b[43m)\u001b[49m\n\u001b[0;32m   6202\u001b[0m keyarr \u001b[38;5;241m=\u001b[39m \u001b[38;5;28mself\u001b[39m\u001b[38;5;241m.\u001b[39mtake(indexer)\n\u001b[0;32m   6203\u001b[0m \u001b[38;5;28;01mif\u001b[39;00m \u001b[38;5;28misinstance\u001b[39m(key, Index):\n\u001b[0;32m   6204\u001b[0m     \u001b[38;5;66;03m# GH 42790 - Preserve name from an Index\u001b[39;00m\n",
      "File \u001b[1;32mc:\\Users\\BEZA\\Desktop\\Weekk6\\Credit-risk-Modelling\\venv\\Lib\\site-packages\\pandas\\core\\indexes\\base.py:6249\u001b[0m, in \u001b[0;36mIndex._raise_if_missing\u001b[1;34m(self, key, indexer, axis_name)\u001b[0m\n\u001b[0;32m   6247\u001b[0m \u001b[38;5;28;01mif\u001b[39;00m nmissing:\n\u001b[0;32m   6248\u001b[0m     \u001b[38;5;28;01mif\u001b[39;00m nmissing \u001b[38;5;241m==\u001b[39m \u001b[38;5;28mlen\u001b[39m(indexer):\n\u001b[1;32m-> 6249\u001b[0m         \u001b[38;5;28;01mraise\u001b[39;00m \u001b[38;5;167;01mKeyError\u001b[39;00m(\u001b[38;5;124mf\u001b[39m\u001b[38;5;124m\"\u001b[39m\u001b[38;5;124mNone of [\u001b[39m\u001b[38;5;132;01m{\u001b[39;00mkey\u001b[38;5;132;01m}\u001b[39;00m\u001b[38;5;124m] are in the [\u001b[39m\u001b[38;5;132;01m{\u001b[39;00maxis_name\u001b[38;5;132;01m}\u001b[39;00m\u001b[38;5;124m]\u001b[39m\u001b[38;5;124m\"\u001b[39m)\n\u001b[0;32m   6251\u001b[0m     not_found \u001b[38;5;241m=\u001b[39m \u001b[38;5;28mlist\u001b[39m(ensure_index(key)[missing_mask\u001b[38;5;241m.\u001b[39mnonzero()[\u001b[38;5;241m0\u001b[39m]]\u001b[38;5;241m.\u001b[39munique())\n\u001b[0;32m   6252\u001b[0m     \u001b[38;5;28;01mraise\u001b[39;00m \u001b[38;5;167;01mKeyError\u001b[39;00m(\u001b[38;5;124mf\u001b[39m\u001b[38;5;124m\"\u001b[39m\u001b[38;5;132;01m{\u001b[39;00mnot_found\u001b[38;5;132;01m}\u001b[39;00m\u001b[38;5;124m not in index\u001b[39m\u001b[38;5;124m\"\u001b[39m)\n",
      "\u001b[1;31mKeyError\u001b[0m: \"None of [Index(['CustomerId'], dtype='object')] are in the [columns]\""
     ]
    }
   ],
   "source": [
    "# Assuming 'features' is your DataFrame after feature engineering\n",
    "\n",
    "# One-Hot Encoding for nominal categorical variables \n",
    "features = pd.get_dummies(features, columns=['CustomerId'], drop_first=True)\n",
    "\n",
    "# Label Encoding for ordinal categorical variables if any (not shown in the example)\n",
    "from sklearn.preprocessing import LabelEncoder\n",
    "\n",
    "label_encoder = LabelEncoder()\n",
    "# Example: if 'SomeOrdinalCategory' is an ordinal variable\n",
    "# features['SomeOrdinalCategory'] = label_encoder.fit_transform(features['SomeOrdinalCategory'])\n"
   ]
  },
  {
   "cell_type": "code",
   "execution_count": null,
   "metadata": {},
   "outputs": [],
   "source": [
    "# Check for missing values\n",
    "missing_values = features.isnull().sum()\n",
    "\n",
    "# Option 1: Imputation\n",
    "# Filling missing values with mean, median, or mode for numerical features\n",
    "for column in features.select_dtypes(include=['float64', 'int64']).columns:\n",
    "    features[column].fillna(features[column].mean(), inplace=True)  # or use median or mode as required\n",
    "\n",
    "# Option 2: Removal\n",
    "# features.dropna(inplace=True)  # Remove rows with missing values if few\n"
   ]
  }
 ],
 "metadata": {
  "kernelspec": {
   "display_name": "venv",
   "language": "python",
   "name": "python3"
  },
  "language_info": {
   "codemirror_mode": {
    "name": "ipython",
    "version": 3
   },
   "file_extension": ".py",
   "mimetype": "text/x-python",
   "name": "python",
   "nbconvert_exporter": "python",
   "pygments_lexer": "ipython3",
   "version": "3.12.7"
  }
 },
 "nbformat": 4,
 "nbformat_minor": 2
}
