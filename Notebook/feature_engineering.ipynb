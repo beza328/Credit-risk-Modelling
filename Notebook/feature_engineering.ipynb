{
 "cells": [
  {
   "cell_type": "code",
   "execution_count": 13,
   "metadata": {},
   "outputs": [],
   "source": [
    "import os\n",
    "import sys\n",
    "import pandas as pd\n",
    "sys.path.append(os.path.abspath('../Scripts'))\n",
    "import warnings\n",
    "warnings.filterwarnings('ignore')"
   ]
  },
  {
   "cell_type": "code",
   "execution_count": 14,
   "metadata": {},
   "outputs": [],
   "source": [
    "import eda as ed"
   ]
  },
  {
   "cell_type": "code",
   "execution_count": 15,
   "metadata": {},
   "outputs": [],
   "source": [
    "import feature as ft"
   ]
  },
  {
   "cell_type": "code",
   "execution_count": 16,
   "metadata": {},
   "outputs": [
    {
     "name": "stdout",
     "output_type": "stream",
     "text": [
      "2024-10-11 04:09:35,750 - INFO - Attempting to load data from data.csv\n",
      "2024-10-11 04:09:35,750 - INFO - Attempting to load data from data.csv\n",
      "2024-10-11 04:09:36,520 - INFO - Successfully loaded data from data.csv\n",
      "2024-10-11 04:09:36,520 - INFO - Successfully loaded data from data.csv\n"
     ]
    }
   ],
   "source": [
    "df = 'data.csv'\n",
    "data = ed.load_data(df)"
   ]
  },
  {
   "cell_type": "code",
   "execution_count": 17,
   "metadata": {},
   "outputs": [],
   "source": [
    "data['TransactionStartTime'] = pd.to_datetime(data['TransactionStartTime'])\n"
   ]
  },
  {
   "cell_type": "code",
   "execution_count": 18,
   "metadata": {},
   "outputs": [],
   "source": [
    "current_date = pd.to_datetime('now')"
   ]
  },
  {
   "cell_type": "code",
   "execution_count": 19,
   "metadata": {},
   "outputs": [
    {
     "name": "stdout",
     "output_type": "stream",
     "text": [
      "datetime64[ns, UTC]\n"
     ]
    }
   ],
   "source": [
    "print(data['TransactionStartTime'].dtype)"
   ]
  },
  {
   "cell_type": "code",
   "execution_count": 20,
   "metadata": {},
   "outputs": [],
   "source": [
    "#data['TransactionStartTime'] = data['TransactionStartTime'].dt.tz_convert(None)"
   ]
  },
  {
   "cell_type": "code",
   "execution_count": 25,
   "metadata": {},
   "outputs": [
    {
     "name": "stdout",
     "output_type": "stream",
     "text": [
      "2024-10-11 04:10:21,927 - INFO - extracting feaure for credit risk model...\n",
      "2024-10-11 04:10:21,927 - INFO - extracting feaure for credit risk model...\n",
      "        CustomerId  Transaction_Frequency  Avg_Transaction_Amount  \\\n",
      "0     CustomerId_1                      1           -10000.000000   \n",
      "1    CustomerId_10                      1           -10000.000000   \n",
      "2  CustomerId_1001                      5             4000.000000   \n",
      "3  CustomerId_1002                     11              384.090909   \n",
      "4  CustomerId_1003                      6             3333.333333   \n",
      "\n",
      "   Total_Transaction_Volume  Transaction_Recency  \\\n",
      "0                  -10000.0                 2150   \n",
      "1                  -10000.0                 2150   \n",
      "2                   20000.0                 2155   \n",
      "3                    4225.0                 2092   \n",
      "4                   20000.0                 2078   \n",
      "\n",
      "   Transaction_Amount_Variability  Avg_Transaction_Hour  Avg_Transaction_Day  \\\n",
      "0                             NaN             16.000000            21.000000   \n",
      "1                             NaN             16.000000            21.000000   \n",
      "2                     6558.963333              7.800000            16.000000   \n",
      "3                      560.498966             13.454545            14.727273   \n",
      "4                     6030.478146             14.333333             1.000000   \n",
      "\n",
      "   Avg_Transaction_Month  Avg_Transaction_Year  \n",
      "0              11.000000           2018.000000  \n",
      "1              11.000000           2018.000000  \n",
      "2              11.000000           2018.000000  \n",
      "3               8.636364           2018.272727  \n",
      "4               2.000000           2019.000000  \n",
      "2024-10-11 04:10:22,304 - INFO - the feature engineering process done.\n",
      "2024-10-11 04:10:22,304 - INFO - the feature engineering process done.\n"
     ]
    }
   ],
   "source": [
    "features = ft.extract_features(data)"
   ]
  },
  {
   "cell_type": "code",
   "execution_count": 26,
   "metadata": {},
   "outputs": [
    {
     "ename": "AttributeError",
     "evalue": "'NoneType' object has no attribute 'head'",
     "output_type": "error",
     "traceback": [
      "\u001b[1;31m---------------------------------------------------------------------------\u001b[0m",
      "\u001b[1;31mAttributeError\u001b[0m                            Traceback (most recent call last)",
      "Cell \u001b[1;32mIn[26], line 1\u001b[0m\n\u001b[1;32m----> 1\u001b[0m \u001b[43mfeatures\u001b[49m\u001b[38;5;241;43m.\u001b[39;49m\u001b[43mhead\u001b[49m\n",
      "\u001b[1;31mAttributeError\u001b[0m: 'NoneType' object has no attribute 'head'"
     ]
    }
   ],
   "source": [
    "features.head"
   ]
  },
  {
   "cell_type": "code",
   "execution_count": 23,
   "metadata": {},
   "outputs": [
    {
     "ename": "AttributeError",
     "evalue": "'NoneType' object has no attribute 'describe'",
     "output_type": "error",
     "traceback": [
      "\u001b[1;31m---------------------------------------------------------------------------\u001b[0m",
      "\u001b[1;31mAttributeError\u001b[0m                            Traceback (most recent call last)",
      "Cell \u001b[1;32mIn[23], line 1\u001b[0m\n\u001b[1;32m----> 1\u001b[0m \u001b[43mfeatures\u001b[49m\u001b[38;5;241;43m.\u001b[39;49m\u001b[43mdescribe\u001b[49m(include\u001b[38;5;241m=\u001b[39m \u001b[38;5;124m'\u001b[39m\u001b[38;5;124mobject\u001b[39m\u001b[38;5;124m'\u001b[39m)\n",
      "\u001b[1;31mAttributeError\u001b[0m: 'NoneType' object has no attribute 'describe'"
     ]
    }
   ],
   "source": [
    "features.describe(include= 'object')"
   ]
  },
  {
   "cell_type": "code",
   "execution_count": 14,
   "metadata": {},
   "outputs": [
    {
     "data": {
      "text/plain": [
       "CustomerId                         object\n",
       "Transaction_Frequency               int64\n",
       "Avg_Transaction_Amount            float64\n",
       "Total_Transaction_Volume          float64\n",
       "Transaction_Recency                 int64\n",
       "Transaction_Amount_Variability    float64\n",
       "Avg_Transaction_Hour              float64\n",
       "Avg_Transaction_Day               float64\n",
       "Avg_Transaction_Month             float64\n",
       "Avg_Transaction_Year              float64\n",
       "dtype: object"
      ]
     },
     "execution_count": 14,
     "metadata": {},
     "output_type": "execute_result"
    }
   ],
   "source": [
    "features.dtypes"
   ]
  },
  {
   "cell_type": "markdown",
   "metadata": {},
   "source": [
    "## Encoding catagorical varibles"
   ]
  },
  {
   "cell_type": "code",
   "execution_count": 15,
   "metadata": {},
   "outputs": [],
   "source": [
    "# Assuming 'features' is your DataFrame after feature engineering\n",
    "\n",
    "# One-Hot Encoding for nominal categorical variables \n",
    "features = pd.get_dummies(features, columns=['CustomerId'], drop_first=True)\n",
    "\n",
    "# Label Encoding for ordinal categorical variables if any (not shown in the example)\n",
    "from sklearn.preprocessing import LabelEncoder\n",
    "\n",
    "label_encoder = LabelEncoder()\n",
    "# Example: if 'SomeOrdinalCategory' is an ordinal variable\n",
    "# features['SomeOrdinalCategory'] = label_encoder.fit_transform(features['SomeOrdinalCategory'])\n"
   ]
  },
  {
   "cell_type": "markdown",
   "metadata": {},
   "source": [
    "### check for missing values"
   ]
  },
  {
   "cell_type": "code",
   "execution_count": 16,
   "metadata": {},
   "outputs": [
    {
     "name": "stdout",
     "output_type": "stream",
     "text": [
      "Transaction_Frequency               0\n",
      "Avg_Transaction_Amount              0\n",
      "Total_Transaction_Volume            0\n",
      "Transaction_Recency                 0\n",
      "Transaction_Amount_Variability    712\n",
      "                                 ... \n",
      "CustomerId_CustomerId_992           0\n",
      "CustomerId_CustomerId_993           0\n",
      "CustomerId_CustomerId_994           0\n",
      "CustomerId_CustomerId_996           0\n",
      "CustomerId_CustomerId_998           0\n",
      "Length: 3750, dtype: int64\n"
     ]
    }
   ],
   "source": [
    "# Check for missing values\n",
    "missing_values = features.isnull().sum()\n",
    "print(missing_values)\n",
    "# Option 1: Imputation\n",
    "# Filling missing values with mean, median, or mode for numerical features\n",
    "for column in features.select_dtypes(include=['float64', 'int64']).columns:\n",
    "    features[column].fillna(features[column].mean(), inplace=True)  # or use median or mode as required\n",
    "\n",
    "# Option 2: Removal\n",
    "# features.dropna(inplace=True)  # Remove rows with missing values if few\n"
   ]
  },
  {
   "cell_type": "markdown",
   "metadata": {},
   "source": [
    "there is no missing value from the featured dataframe"
   ]
  },
  {
   "cell_type": "markdown",
   "metadata": {},
   "source": [
    "### Normalize the numerical values"
   ]
  },
  {
   "cell_type": "code",
   "execution_count": 17,
   "metadata": {},
   "outputs": [],
   "source": [
    "from sklearn.preprocessing import MinMaxScaler, StandardScaler\n",
    "\n",
    "# Separate numerical features\n",
    "numerical_features = features.select_dtypes(include=['float64', 'int64']).columns\n",
    "\n",
    "# Option 1: Normalization\n",
    "scaler = MinMaxScaler()\n",
    "features[numerical_features] = scaler.fit_transform(features[numerical_features])\n",
    "\n",
    "# Option 2: Standardization\n",
    "# scaler = StandardScaler()\n",
    "# features[numerical_features] = scaler.fit_transform(features[numerical_features])\n"
   ]
  }
 ],
 "metadata": {
  "kernelspec": {
   "display_name": "venv",
   "language": "python",
   "name": "python3"
  },
  "language_info": {
   "codemirror_mode": {
    "name": "ipython",
    "version": 3
   },
   "file_extension": ".py",
   "mimetype": "text/x-python",
   "name": "python",
   "nbconvert_exporter": "python",
   "pygments_lexer": "ipython3",
   "version": "3.12.7"
  }
 },
 "nbformat": 4,
 "nbformat_minor": 2
}
